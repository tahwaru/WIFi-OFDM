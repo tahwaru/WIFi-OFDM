{
 "cells": [
  {
   "cell_type": "markdown",
   "id": "7fba376d-599e-4ab2-b6a8-11903d1c4763",
   "metadata": {},
   "source": [
    "Following IEEE 802.11 - 2012"
   ]
  },
  {
   "cell_type": "code",
   "execution_count": 6,
   "id": "958d7ab5-f752-44a7-984f-454c7fe585fb",
   "metadata": {},
   "outputs": [],
   "source": [
    "import numpy as np\n",
    "import matplotlib.pyplot as plt\n",
    "\n",
    "from OFDM_transmit import OFDM_Tx\n",
    "from OFDM_receive import OFDM_Rx\n",
    "from Channel import channel\n"
   ]
  },
  {
   "cell_type": "code",
   "execution_count": 7,
   "id": "e3cb710c-6607-40f1-8db4-d9170bdfeeed",
   "metadata": {},
   "outputs": [
    {
     "name": "stdout",
     "output_type": "stream",
     "text": [
      "48\n"
     ]
    }
   ],
   "source": [
    "# -------------------------------------------Parameters\n",
    "\n",
    "K = 64  # total number of OFDM subcarriers for (I)FFT computation\n",
    "# OFDM_symb = 40 # number of complex numbers per OFDM symbol\n",
    "CP = K//4  # length of the cyclic prefix: 25% of the block\n",
    "\n",
    "# subcarrier indexing\n",
    "all_subcarriers = np.arange(K)  # indices of all subcarriers ([0, 1, ... K-1])\n",
    "\n",
    "pilot_subcarriers = np.hstack([11, 25, 39, 53])\n",
    "\n",
    "DC_subcarrier = np.hstack([32])\n",
    "\n",
    "upper_training = all_subcarriers[:6]\n",
    "lower_training = all_subcarriers[-5:]\n",
    "training_subcarriers = np.concatenate((upper_training, lower_training))\n",
    "\n",
    "\n",
    "data_subcarriers = np.delete(all_subcarriers, np.concatenate(\n",
    "    (pilot_subcarriers, training_subcarriers, DC_subcarrier)))\n",
    "print(len(data_subcarriers))\n"
   ]
  },
  {
   "cell_type": "code",
   "execution_count": 8,
   "id": "7d71a93d-32b9-4a8a-95b3-aee60a449e1a",
   "metadata": {},
   "outputs": [],
   "source": [
    "modulations = [\"bpsk\", \"qpsk\", \"16qam\", \"64qam\"]\n",
    "\n",
    "\n",
    "SNRdb = np.arange(-3, 20, 2)\n"
   ]
  },
  {
   "cell_type": "markdown",
   "id": "a1734b7a-bd89-4664-8d84-39580c9bfc17",
   "metadata": {},
   "source": [
    "# Single OFDM symbol\n",
    "BER = {}\n",
    "N_bits = 2**10  # please select a power of 2 higher than 6\n",
    "bits = np.random.binomial(n=1, p=0.5, size=(N_bits, ))\n",
    "for i_mod in range(len(modulations)):\n",
    "    modulation = modulations[i_mod]\n",
    "    BER[i_mod] = np.zeros((len(SNRdb),), dtype=float)\n",
    "# ------------------------------------Transmit\n",
    "    OFDM_Tx1 = OFDM_Tx(modulation, training_subcarriers,\n",
    "                       pilot_subcarriers, data_subcarriers, DC_subcarrier, CP, K)\n",
    "    OFDM_withCP = OFDM_Tx1.bits2complex_stream(bits)\n",
    "    for i_snr in range(len(SNRdb)):\n",
    "        OFDM_Rx_signal = channel(OFDM_withCP, SNRdb[i_snr])\n",
    "\n",
    "# ----------------------Receive--------------\n",
    "        OFDM_Rx1 = OFDM_Rx(modulation, training_subcarriers,\n",
    "                           pilot_subcarriers, data_subcarriers, DC_subcarrier, CP, K)\n",
    "        bits_est = OFDM_Rx1.complex2bits(OFDM_Rx_signal)\n",
    "        BER[i_mod][i_snr] = np.sum(\n",
    "            abs(bits[:len(bits_est)]-bits_est))/len(bits_est)\n",
    "\n",
    "    plt.semilogy(SNRdb, BER[i_mod], label=modulation)\n",
    "\n",
    "plt.xlabel(\"SNR[dB]\")\n",
    "plt.ylabel(\"BER\")\n",
    "plt.legend()\n",
    "plt.show()\n"
   ]
  },
  {
   "cell_type": "code",
   "execution_count": null,
   "id": "1faca189",
   "metadata": {},
   "outputs": [
    {
     "data": {
      "image/png": "[encoded data removed]",
      "text/plain": [
       "<Figure size 640x480 with 1 Axes>"
      ]
     },
     "metadata": {},
     "output_type": "display_data"
    }
   ],
   "source": [
    "# Multiple OFDM symbols\n",
    "Num_ODFM_symbols = 1000\n",
    "N_bits = 2**10  # please select a power of 2 higher than 6\n",
    "BER = {}\n",
    "for i_mod in range(len(modulations)):\n",
    "    modulation = modulations[i_mod]\n",
    "    print(modulation)\n",
    "    BER[i_mod] = np.zeros((len(SNRdb),), dtype=float)\n",
    "# ------------------------------------Tx & Rx objects\n",
    "    OFDM_Tx1 = OFDM_Tx(modulation, training_subcarriers,\n",
    "                       pilot_subcarriers, data_subcarriers, DC_subcarrier, CP, K)\n",
    "    \n",
    "    OFDM_Rx1 = OFDM_Rx(modulation, training_subcarriers,\n",
    "                           pilot_subcarriers, data_subcarriers, DC_subcarrier, CP, K)\n",
    "    bit_error_counter = np.zeros((len(SNRdb), Num_ODFM_symbols), dtype=float)       # keeps the error rate of each OFDM symbol \n",
    "    OFDM_bits_payload_counter = np.zeros((len(SNRdb), Num_ODFM_symbols), dtype=float)\n",
    "    \n",
    "    for i_snr in range(len(SNRdb)):\n",
    "        for i_OFDM_symbol in range(Num_ODFM_symbols):\n",
    "            bits = np.random.binomial(n=1, p=0.5, size=(N_bits, ))       \n",
    "            OFDM_withCP = OFDM_Tx1.bits2complex_stream(bits)\n",
    "            OFDM_Rx_signal = channel(OFDM_withCP, SNRdb[i_snr])\n",
    "            bits_est = OFDM_Rx1.complex2bits(OFDM_Rx_signal)\n",
    "            bit_error_counter[i_snr][i_OFDM_symbol]= np.sum(abs(bits[:len(bits_est)]-bits_est))\n",
    "            OFDM_bits_payload_counter[i_snr][i_OFDM_symbol] = len(bits_est)\n",
    "\n",
    "        BER[i_mod][i_snr] = sum(bit_error_counter[i_snr])/sum(OFDM_bits_payload_counter[i_snr])\n",
    "    plt.semilogy(SNRdb, BER[i_mod], label=modulation)\n",
    "\n",
    "plt.xlabel(\"SNR[dB]\")\n",
    "plt.ylabel(\"BER\")\n",
    "plt.legend()\n",
    "plt.show()"
   ]
  },
  {
   "cell_type": "code",
   "execution_count": null,
   "id": "80ebd421",
   "metadata": {},
   "outputs": [],
   "source": []
  }
 ],
 "metadata": {
  "kernelspec": {
   "display_name": "Python 3 (ipykernel)",
   "language": "python",
   "name": "python3"
  },
  "language_info": {
   "codemirror_mode": {
    "name": "ipython",
    "version": 3
   },
   "file_extension": ".py",
   "mimetype": "text/x-python",
   "name": "python",
   "nbconvert_exporter": "python",
   "pygments_lexer": "ipython3",
   "version": "3.11.3"
  },
  "vscode": {
   "interpreter": {
    "hash": "916dbcbb3f70747c44a77c7bcd40155683ae19c65e1c03b4aa3499c5328201f1"
   }
  }
 },
 "nbformat": 4,
 "nbformat_minor": 5
}
